{
 "cells": [
  {
   "cell_type": "markdown",
   "metadata": {},
   "source": [
    "<img src=\"module-01/ScDo-Bandeau_Lingua_Technologies.png\" style=\"width: 100%;float:center;\"/>\n",
    "\n",
    "<h1 style=\"font-size:250%;text-align:center\">Configuration du tutoriel</h1>\n",
    "<h1 style=\"font-size:250%;text-align:center\">Premier contact avec NumPy et matplotlib</h1>"
   ]
  },
  {
   "cell_type": "markdown",
   "metadata": {},
   "source": [
    "## Importation des bibliothèques utilisées pour le tutoriel"
   ]
  },
  {
   "cell_type": "code",
   "execution_count": 11,
   "metadata": {},
   "outputs": [
    {
     "name": "stdout",
     "output_type": "stream",
     "text": [
      "Importation des bibliothèques Python\n"
     ]
    }
   ],
   "source": [
    "# Importer toutes les bibliothèques utilisées pour le tutoriel\n",
    "import scipy\n",
    "import matplotlib\n",
    "import sklearn\n",
    "from numpy import *\n",
    "from pandas import *\n",
    "from sklearn import *\n",
    "\n",
    "# Note: «import *» importe le code de TOUS les paquets (packages), \n",
    "# classes et fonctions dans l'espace de travail\n",
    "# Pour de grosses bibliothèques, vous pouvez importer seulement des parties \n",
    "# avec from <bibliothèque> import <classe/objet>\n",
    "\n",
    "# Important: pour éviter des conflits dans l'espace de nommage, \n",
    "# vous pouvez renommer les bibliothèques importées\n",
    "\n",
    "# Renommages conventionnels: \n",
    "# numpy devient «np» et matplotlib devient «plt»\n",
    "import numpy as np\n",
    "import matplotlib.pyplot as plt\n",
    "\n",
    "# Importer la biblothèque Pandas et la renommer «pd» \n",
    "import pandas as pd\n",
    "\n",
    "# Importer les classes «Series» et «DataFrame» de Pandas\n",
    "from pandas import Series, DataFrame\n",
    "\n",
    "# Importer des classes ou fonctions spécifiques d'une bibliothèque \n",
    "# from <bibliotheque> import <fonction>\n",
    "from pandas import DataFrame, read_csv\n",
    "\n",
    "# Importer une bibliothèque mais sans ses fonctions\n",
    "## import <bibliothèque> as <abréviation>\n",
    "import matplotlib.pyplot as plt\n",
    "# La manière usuelle d'importer Pandas\n",
    "import pandas as pd \n",
    "# Bibliothèque «sys», utilisée uniquement pour obtenir les numéros de versions\n",
    "import sys \n",
    "\n",
    "# Activer l'affichage des graphiques dans la page du Notebook iPython\n",
    "%matplotlib inline\n",
    "\n",
    "# Importer IPython afin de pouvoir vérifier sa version et d'afficher des contenus web dans le carnet\n",
    "import IPython\n",
    "\n",
    "print(\"Importation des bibliothèques Python\")\n"
   ]
  },
  {
   "cell_type": "markdown",
   "metadata": {},
   "source": [
    "### Vérification de l'installation"
   ]
  },
  {
   "cell_type": "code",
   "execution_count": 12,
   "metadata": {},
   "outputs": [
    {
     "name": "stdout",
     "output_type": "stream",
     "text": [
      "Version de Python:  3.6.5 (v3.6.5:f59c0932b4, Mar 28 2018, 03:03:55) \n",
      "[GCC 4.2.1 (Apple Inc. build 5666) (dot 3)]\n",
      "Version de IPython:  7.10.1\n",
      "Version de NumPy:  1.18.0\n",
      "Version de SciPy:  1.4.1\n",
      "Version de Pandas:  0.25.3\n",
      "Version de Matplotlib:  3.1.0\n",
      "Version de Scikit-Learn:  0.21.2\n"
     ]
    }
   ],
   "source": [
    "# Vérification des versions des bibliothèques\n",
    "print('Version de Python: ',sys.version)\n",
    "print('Version de IPython: ',IPython.__version__)\n",
    "print('Version de NumPy: ',np.__version__)\n",
    "print('Version de SciPy: ',scipy.__version__)\n",
    "print('Version de Pandas: ',pd.__version__)\n",
    "print('Version de Matplotlib: ',matplotlib.__version__)\n",
    "print('Version de Scikit-Learn: ',sklearn.__version__)\n"
   ]
  },
  {
   "cell_type": "markdown",
   "metadata": {},
   "source": [
    "# Que sont les données?\n",
    "\n",
    "Comme son nom l'indique, les données sont à la base de la science des données et de tout travail d’analyse statistique. \n",
    "\n",
    "Une grandeur qui varie est appelée variable en statistique, attribut (ou caractéristique) dans le langage de la science des données, ou dimension dans le langage de l’apprentissage automatique. \n",
    "\n",
    "En général, les exemplaires (ou exemples) d'un jeu de données sont caractérisés par les attributs qui mesurent différents aspects de l’exemplaire d’un objet. \n",
    "\n",
    "## Jeu de données ou tableau de données\n",
    "\n",
    "Typiquement, un ensemble de données (ou jeu de données) est représenté par un tableau où chaque ligne correspond à une observation en statistique, un point de données en sciences des données ou un exemple (ou exemplaire) en apprentissage automatique. Les colonnes du tableau correspondent aux attributs (ou quantités mesurées). \n",
    "\n",
    "Sur le plan du type d’attributs, on distingue plusieurs types selon les valeurs qui les caractérisent. En gros, on distinguera entre les attributs discrets et les attributs continus. Une autre distinction utile sépare les attributs entre les attributs numériques avec des sous-types valeurs entières (valeurs discrètes) et valeurs réelles (valeurs continues), et les attributs catégoriels qui sont des symboles appartenant à un ensemble (valeurs discrètes). \n",
    "\n",
    "Par exemple, la température, le poids ou la taille d'une personne (des attributs continus) seront exprimés par un nombre en virgule flottante. Pour les besoins des algorithmes d’apprentissage automatique, les attributs numériques continus sont généralement convertis et normalisés en un nombre flottant entre 0.0 et 1.0\n",
    "\n",
    "Typiquement les attributs catégoriels décrivent un ensemble précis et limité de cas possibles ou catégories (attributs catégoriels). Comme une valeur booléenne (vrai ou faux), le genre d'une personne (femme, homme), la couleur d'une voiture (noir, blanc, gris, bleu, vert, rouge, beige, ...). Même un texte peut être ramené à l'ensemble des mots qu'il contient. Les différentes valeurs discrètes seront converties en une série d'attributs binaires (0,1) ou bits, à raison d'un bit par choix d'attribut. Note: Sauf pour le cas dégénéré à deux choix (i.e. attribut booléen) où un seul bit suffit.\n",
    "\n",
    "Par exemple, les données ci-dessous décrivent des étudiants inscrits à un cours en ligne, un étudiant par ligne, et chaque étudiant est décrit par huit (8) attributs. On parle ici de données ou de points dans un espace à huit dimensions. La dimension d’une donnée correspond donc à son nombre d’attributs.\n",
    "\n",
    "<table>\n",
    "  <tr>\n",
    "    <th style=\"background-color:black;color:white;vertical-align:top;\">Identifiant</th>\n",
    "    <th style=\"background-color:black;color:white;vertical-align:top;\">Niveau éducation</th>\n",
    "    <th style=\"background-color:black;color:white;vertical-align:top;\">Résultats d'évaluation</th>\n",
    "    <th style=\"background-color:black;color:white;vertical-align:top;\">Niveau compétence atteint</th>\n",
    "    <th style=\"background-color:black;color:white;vertical-align:top;\">Heures travaillées</th>\n",
    "    <th style=\"background-color:black;color:white;vertical-align:top;\">Nombre de billets</th>\n",
    "    <th style=\"background-color:black;color:white;vertical-align:top;\">Souscripteur</th>\n",
    "    <th style=\"background-color:black;color:white;vertical-align:top;\">Succès</th>\n",
    "  </tr>\n",
    "  <tr>\n",
    "    <td>étud_1</td>\n",
    "    <td>maîtrise</td>\n",
    "    <td>90</td>\n",
    "    <td>expert</td>\n",
    "    <td>8</td>\n",
    "    <td>4</td>\n",
    "    <td>oui</td>\n",
    "    <td>oui</td>\n",
    "  </tr>\n",
    "  <tr>\n",
    "    <td>étud_2</td>\n",
    "    <td>secondaire</td>\n",
    "    <td>55</td>\n",
    "    <td>débutant</td>\n",
    "    <td>1</td>\n",
    "    <td>1</td>\n",
    "    <td>non</td>\n",
    "    <td>non</td>\n",
    "  </tr>\n",
    "  <tr>\n",
    "    <td>étud_3</td>\n",
    "    <td>primaire</td>\n",
    "    <td>80</td>\n",
    "    <td>intermédiaire</td>\n",
    "    <td>10</td>\n",
    "    <td>2</td>\n",
    "    <td>oui</td>\n",
    "    <td>oui</td>\n",
    "  </tr>\n",
    "  <tr>\n",
    "    <td>étud_4</td>\n",
    "    <td>collégial</td>\n",
    "    <td>75</td>\n",
    "    <td>avancé</td>\n",
    "    <td>5</td>\n",
    "    <td>4</td>\n",
    "    <td>non</td>\n",
    "    <td>oui</td>\n",
    "  </tr>\n",
    "  <tr>\n",
    "    <td>étud_5</td>\n",
    "    <td>bac</td>\n",
    "    <td>66</td>\n",
    "    <td>intermédiaire</td>\n",
    "    <td>7</td>\n",
    "    <td>1</td>\n",
    "    <td>oui</td>\n",
    "    <td>oui</td>\n",
    "  </tr>\n",
    "  <tr>\n",
    "    <td>étud_6</td>\n",
    "    <td>bac</td>\n",
    "    <td>73</td>\n",
    "    <td>avancé</td>\n",
    "    <td>14</td>\n",
    "    <td>2</td>\n",
    "    <td>non</td>\n",
    "    <td>oui</td>\n",
    "  </tr>\n",
    "</table>\n",
    "\n",
    "L’attribut catégoriel «niveau d’éducation» sera décrit par une valeur dans l’ensemble de symboles: ‘primaire’, ‘secondaire’, ‘collégial’, ‘bac’, ‘maîtrise’, ‘doctorat’. De même, l'attribut catégoriel «niveau de compétence» est un symbole appartenant à l’ensemble: ‘novice’, ‘débutant’, ‘intermédiaire’, ‘avancé’, ‘expert’. Les notes, le nombre d'heures travaillées et les résultats d'évaluation peuvent être traités comme des ensembles discrets ou continus selon le cas. \n",
    "\n",
    "## Représentation vectorielle\n",
    "\n",
    "Pour être traitée par un algorithme, chaque ligne d'un tableau de données doit être  transformée en un vecteur de nombres réel. Ce processus s'appelle la vectorisation.\n",
    "\n",
    "On peut ainsi voir un jeu de données comme un tableau de vecteurs ou une matrice de données. Ce qui explique que nous devons nous intéresser aux vecteurs, aux matrices et à l'algèbre linéaire qui est précisément la branche des mathématiques qui s'intéresse aux vecteurs et aux matrices."
   ]
  },
  {
   "cell_type": "markdown",
   "metadata": {},
   "source": [
    "## Introduction à NumPy\n",
    "\n",
    "Diminutif de Numerical Python, <a href=\"https://numpy.org/\">NumPy</a> est une bibliothèque Python en logiciel libre utilisée pour les calculs scientifiques de base. Essentiellement basé sur la notion de matrices, NumPy est à la fois performant et super utile pour l'analyse des données et les calculs mathématiques.\n",
    "\n",
    "NumPy est à la base des bibliothèques plus spécialisées en apprentissage automatique comme Pandas, Scikit-Learn ou TensorFlow."
   ]
  },
  {
   "cell_type": "code",
   "execution_count": 13,
   "metadata": {},
   "outputs": [],
   "source": [
    "import numpy as np\n"
   ]
  },
  {
   "cell_type": "markdown",
   "metadata": {},
   "source": [
    "### Création de matrices \n",
    "\n",
    "On dit aussi tableaux de nombres NumPy"
   ]
  },
  {
   "cell_type": "code",
   "execution_count": 14,
   "metadata": {},
   "outputs": [
    {
     "data": {
      "text/plain": [
       "array([1, 2, 3])"
      ]
     },
     "execution_count": 14,
     "metadata": {},
     "output_type": "execute_result"
    }
   ],
   "source": [
    "a = np.array([1, 2, 3])\n",
    "a\n"
   ]
  },
  {
   "cell_type": "code",
   "execution_count": 15,
   "metadata": {},
   "outputs": [
    {
     "name": "stdout",
     "output_type": "stream",
     "text": [
      "[1 2 3]\n",
      "\n",
      "int64\n",
      "\n",
      "(3,)\n"
     ]
    }
   ],
   "source": [
    "print(a)\n",
    "print()\n",
    "print(a.dtype)\n",
    "print()\n",
    "print(a.shape)\n"
   ]
  },
  {
   "cell_type": "code",
   "execution_count": 16,
   "metadata": {},
   "outputs": [
    {
     "name": "stdout",
     "output_type": "stream",
     "text": [
      "[2 3]\n"
     ]
    }
   ],
   "source": [
    "## Tranche d'un vecteur\n",
    "print(a[1:3])\n"
   ]
  },
  {
   "cell_type": "code",
   "execution_count": 17,
   "metadata": {},
   "outputs": [
    {
     "name": "stdout",
     "output_type": "stream",
     "text": [
      "[1 2 3]\n"
     ]
    }
   ],
   "source": [
    "print(a[:])\n"
   ]
  },
  {
   "cell_type": "code",
   "execution_count": 18,
   "metadata": {},
   "outputs": [
    {
     "data": {
      "text/plain": [
       "array([[0, 2, 4],\n",
       "       [1, 3, 5]])"
      ]
     },
     "execution_count": 18,
     "metadata": {},
     "output_type": "execute_result"
    }
   ],
   "source": [
    "b = np.array([[0, 2, 4], [1, 3, 5]])\n",
    "b\n"
   ]
  },
  {
   "cell_type": "code",
   "execution_count": 19,
   "metadata": {},
   "outputs": [
    {
     "name": "stdout",
     "output_type": "stream",
     "text": [
      "[[0 2 4]\n",
      " [1 3 5]]\n",
      "\n",
      "int64\n",
      "\n",
      "(2, 3)\n"
     ]
    }
   ],
   "source": [
    "print(b)\n",
    "print()\n",
    "print(b.dtype)\n",
    "print()\n",
    "print(b.shape)\n"
   ]
  },
  {
   "cell_type": "code",
   "execution_count": 22,
   "metadata": {},
   "outputs": [
    {
     "data": {
      "text/plain": [
       "array([0., 0., 0., 0., 0.])"
      ]
     },
     "execution_count": 22,
     "metadata": {},
     "output_type": "execute_result"
    }
   ],
   "source": [
    "# Matrice de 0\n",
    "np.zeros(5)\n"
   ]
  },
  {
   "cell_type": "code",
   "execution_count": 23,
   "metadata": {},
   "outputs": [
    {
     "data": {
      "text/plain": [
       "array([[1, 1, 1, 1],\n",
       "       [1, 1, 1, 1],\n",
       "       [1, 1, 1, 1]], dtype=int32)"
      ]
     },
     "execution_count": 23,
     "metadata": {},
     "output_type": "execute_result"
    }
   ],
   "source": [
    "# Matrice de 1\n",
    "np.ones(shape=(3, 4), dtype=np.int32)\n"
   ]
  },
  {
   "cell_type": "code",
   "execution_count": 24,
   "metadata": {},
   "outputs": [
    {
     "data": {
      "text/plain": [
       "array([[1., 0.],\n",
       "       [0., 1.]])"
      ]
     },
     "execution_count": 24,
     "metadata": {},
     "output_type": "execute_result"
    }
   ],
   "source": [
    "# Matrice identité\n",
    "np.eye(2)\n"
   ]
  },
  {
   "cell_type": "code",
   "execution_count": 25,
   "metadata": {},
   "outputs": [
    {
     "data": {
      "text/plain": [
       "array([[1., 0., 0.],\n",
       "       [0., 1., 0.],\n",
       "       [0., 0., 1.]])"
      ]
     },
     "execution_count": 25,
     "metadata": {},
     "output_type": "execute_result"
    }
   ],
   "source": [
    "np.eye(3)\n"
   ]
  },
  {
   "cell_type": "markdown",
   "metadata": {},
   "source": [
    "### Accès aux élements d'une matrice\n",
    "\n",
    "Le fameux trancher et découper de Python (en anglais, «slice and dice»)."
   ]
  },
  {
   "cell_type": "code",
   "execution_count": 27,
   "metadata": {},
   "outputs": [
    {
     "data": {
      "text/plain": [
       "array([[0, 2, 4],\n",
       "       [1, 3, 5]])"
      ]
     },
     "execution_count": 27,
     "metadata": {},
     "output_type": "execute_result"
    }
   ],
   "source": [
    "b\n"
   ]
  },
  {
   "cell_type": "code",
   "execution_count": 28,
   "metadata": {},
   "outputs": [
    {
     "data": {
      "text/plain": [
       "(2, 3)"
      ]
     },
     "execution_count": 28,
     "metadata": {},
     "output_type": "execute_result"
    }
   ],
   "source": [
    "b.shape\n"
   ]
  },
  {
   "cell_type": "code",
   "execution_count": 29,
   "metadata": {},
   "outputs": [
    {
     "data": {
      "text/plain": [
       "2"
      ]
     },
     "execution_count": 29,
     "metadata": {},
     "output_type": "execute_result"
    }
   ],
   "source": [
    "len(b)"
   ]
  },
  {
   "cell_type": "code",
   "execution_count": 32,
   "metadata": {},
   "outputs": [
    {
     "data": {
      "text/plain": [
       "array([0, 2, 4])"
      ]
     },
     "execution_count": 32,
     "metadata": {},
     "output_type": "execute_result"
    }
   ],
   "source": [
    "# Accès à la première rangée de la matrice \n",
    "b[0]\n"
   ]
  },
  {
   "cell_type": "code",
   "execution_count": 33,
   "metadata": {},
   "outputs": [
    {
     "data": {
      "text/plain": [
       "array([1, 3, 5])"
      ]
     },
     "execution_count": 33,
     "metadata": {},
     "output_type": "execute_result"
    }
   ],
   "source": [
    "# Accès à la seconde rangée de la matrice \n",
    "b[1]\n"
   ]
  },
  {
   "cell_type": "code",
   "execution_count": 13,
   "metadata": {},
   "outputs": [
    {
     "data": {
      "text/plain": [
       "array([1, 3, 5])"
      ]
     },
     "execution_count": 13,
     "metadata": {},
     "output_type": "execute_result"
    }
   ],
   "source": [
    "# Accès à la seconde rangée de la matrice \n",
    "b[1]\n"
   ]
  },
  {
   "cell_type": "code",
   "execution_count": 35,
   "metadata": {},
   "outputs": [
    {
     "data": {
      "text/plain": [
       "3"
      ]
     },
     "execution_count": 35,
     "metadata": {},
     "output_type": "execute_result"
    }
   ],
   "source": [
    "len(b[1])\n"
   ]
  },
  {
   "cell_type": "code",
   "execution_count": 36,
   "metadata": {},
   "outputs": [
    {
     "data": {
      "text/plain": [
       "array([0, 1])"
      ]
     },
     "execution_count": 36,
     "metadata": {},
     "output_type": "execute_result"
    }
   ],
   "source": [
    "# Accès à la première colonne de la matrice \n",
    "b[:,0]\n"
   ]
  },
  {
   "cell_type": "code",
   "execution_count": 37,
   "metadata": {},
   "outputs": [
    {
     "data": {
      "text/plain": [
       "array([2, 3])"
      ]
     },
     "execution_count": 37,
     "metadata": {},
     "output_type": "execute_result"
    }
   ],
   "source": [
    "# Accès à la seconde colonne de la matrice \n",
    "b[:,1]\n"
   ]
  },
  {
   "cell_type": "code",
   "execution_count": 38,
   "metadata": {},
   "outputs": [
    {
     "data": {
      "text/plain": [
       "array([4, 5])"
      ]
     },
     "execution_count": 38,
     "metadata": {},
     "output_type": "execute_result"
    }
   ],
   "source": [
    "# Accès à la troisième colonne de la matrice \n",
    "b[:,2]\n"
   ]
  },
  {
   "cell_type": "code",
   "execution_count": 39,
   "metadata": {},
   "outputs": [
    {
     "data": {
      "text/plain": [
       "0"
      ]
     },
     "execution_count": 39,
     "metadata": {},
     "output_type": "execute_result"
    }
   ],
   "source": [
    "# Accès à l'élément de la première ligne, première colonne\n",
    "b[0,0]\n"
   ]
  },
  {
   "cell_type": "code",
   "execution_count": 18,
   "metadata": {},
   "outputs": [
    {
     "data": {
      "text/plain": [
       "2"
      ]
     },
     "execution_count": 18,
     "metadata": {},
     "output_type": "execute_result"
    }
   ],
   "source": [
    "# Accès au 2e élément de la 1ère ligne\n",
    "b[0,1]\n"
   ]
  },
  {
   "cell_type": "code",
   "execution_count": 41,
   "metadata": {},
   "outputs": [
    {
     "data": {
      "text/plain": [
       "array([0, 2])"
      ]
     },
     "execution_count": 41,
     "metadata": {},
     "output_type": "execute_result"
    }
   ],
   "source": [
    "# Accès aux deux premiers éléments de la 1ère ligne\n",
    "b[0,0:2]\n"
   ]
  },
  {
   "cell_type": "markdown",
   "metadata": {},
   "source": [
    "#### Exercice\n",
    "Accès aux deux derniers éléments de la 2e ligne de la matrice b"
   ]
  },
  {
   "cell_type": "markdown",
   "metadata": {},
   "source": [
    "### Opérations sur les matrices\n",
    "\n",
    "Application d'une opération sur l'ensemble d'une matrice\n",
    "\n",
    "    Addition +\n",
    "\n",
    "    Soustraction -\n",
    "\n",
    "    Multiplication *\n",
    "\n",
    "    Division /\n",
    "\n",
    "    Exponentiation **"
   ]
  },
  {
   "cell_type": "code",
   "execution_count": 45,
   "metadata": {},
   "outputs": [
    {
     "name": "stdout",
     "output_type": "stream",
     "text": [
      "b\n",
      "[[0 2 4]\n",
      " [1 3 5]]\n",
      "\n",
      "c = b * 0.5\n",
      "\n",
      "c\n",
      "[[0.  1.  2. ]\n",
      " [0.5 1.5 2.5]]\n",
      "\n",
      "c.dtype: float64\n",
      "\n",
      "c.shape: (2, 3)\n"
     ]
    }
   ],
   "source": [
    "print('b')\n",
    "print(b)\n",
    "print()\n",
    "print(\"c = b * 0.5\")\n",
    "c = b * 0.5\n",
    "print()\n",
    "print('c')\n",
    "print(c)\n",
    "print()\n",
    "print(\"c.dtype:\",c.dtype)\n",
    "print()\n",
    "print(\"c.shape:\",c.shape)"
   ]
  },
  {
   "cell_type": "code",
   "execution_count": 48,
   "metadata": {},
   "outputs": [
    {
     "name": "stdout",
     "output_type": "stream",
     "text": [
      "b\n",
      "[[0 2 4]\n",
      " [1 3 5]]\n",
      "\n",
      "c3 = b ** 3\n",
      "\n",
      "c3\n",
      "[[  0   8  64]\n",
      " [  1  27 125]]\n",
      "\n",
      "c3.dtype: int64\n",
      "\n",
      "c3.shape: (2, 3)\n"
     ]
    }
   ],
   "source": [
    "print('b')\n",
    "print(b)\n",
    "print()\n",
    "print(\"c3 = b ** 3\")\n",
    "c3 = b ** 3\n",
    "print()\n",
    "print('c3')\n",
    "print(c3)\n",
    "print()\n",
    "print(\"c3.dtype:\",c3.dtype)\n",
    "print()\n",
    "print(\"c3.shape:\",c3.shape)\n"
   ]
  },
  {
   "cell_type": "code",
   "execution_count": 47,
   "metadata": {},
   "outputs": [
    {
     "name": "stdout",
     "output_type": "stream",
     "text": [
      "a\n",
      "[1 2 3]\n",
      "\n",
      "c\n",
      "[[0.  1.  2. ]\n",
      " [0.5 1.5 2.5]]\n",
      "\n",
      "d = a + c\n",
      "\n",
      "d\n",
      "[[1.  3.  5. ]\n",
      " [1.5 3.5 5.5]]\n"
     ]
    }
   ],
   "source": [
    "print('a')\n",
    "print(a)\n",
    "print()\n",
    "print('c')\n",
    "print(c)\n",
    "print()\n",
    "print('d = a + c')\n",
    "d = a + c\n",
    "print()\n",
    "print('d')\n",
    "print(d)\n"
   ]
  },
  {
   "cell_type": "code",
   "execution_count": 50,
   "metadata": {},
   "outputs": [
    {
     "data": {
      "text/plain": [
       "array([1., 3., 5.])"
      ]
     },
     "execution_count": 50,
     "metadata": {},
     "output_type": "execute_result"
    }
   ],
   "source": [
    "# 1ère ligne matrice d\n",
    "d[0]\n"
   ]
  },
  {
   "cell_type": "code",
   "execution_count": 54,
   "metadata": {},
   "outputs": [
    {
     "data": {
      "text/plain": [
       "3.0"
      ]
     },
     "execution_count": 54,
     "metadata": {},
     "output_type": "execute_result"
    }
   ],
   "source": [
    "# 1ère ligne, 2e élément\n",
    "d[0,1]\n"
   ]
  },
  {
   "cell_type": "code",
   "execution_count": 55,
   "metadata": {},
   "outputs": [
    {
     "data": {
      "text/plain": [
       "5.0"
      ]
     },
     "execution_count": 55,
     "metadata": {},
     "output_type": "execute_result"
    }
   ],
   "source": [
    "# 1ère ligne, 3e élément\n",
    "d[0,2]\n"
   ]
  },
  {
   "cell_type": "code",
   "execution_count": 56,
   "metadata": {},
   "outputs": [
    {
     "data": {
      "text/plain": [
       "array([1. , 1.5])"
      ]
     },
     "execution_count": 56,
     "metadata": {},
     "output_type": "execute_result"
    }
   ],
   "source": [
    "# 1ère colonne\n",
    "d[:, 0]\n"
   ]
  },
  {
   "cell_type": "markdown",
   "metadata": {},
   "source": [
    "### Somme, moyenne, max, min"
   ]
  },
  {
   "cell_type": "code",
   "execution_count": 57,
   "metadata": {},
   "outputs": [
    {
     "data": {
      "text/plain": [
       "array([[1. , 3. , 5. ],\n",
       "       [1.5, 3.5, 5.5]])"
      ]
     },
     "execution_count": 57,
     "metadata": {},
     "output_type": "execute_result"
    }
   ],
   "source": [
    "d"
   ]
  },
  {
   "cell_type": "code",
   "execution_count": 58,
   "metadata": {},
   "outputs": [
    {
     "data": {
      "text/plain": [
       "19.5"
      ]
     },
     "execution_count": 58,
     "metadata": {},
     "output_type": "execute_result"
    }
   ],
   "source": [
    "# Somme sur la matrice complète\n",
    "d.sum()\n"
   ]
  },
  {
   "cell_type": "code",
   "execution_count": 59,
   "metadata": {},
   "outputs": [
    {
     "data": {
      "text/plain": [
       "3.25"
      ]
     },
     "execution_count": 59,
     "metadata": {},
     "output_type": "execute_result"
    }
   ],
   "source": [
    "# Moyenne sur la matrice complète\n",
    "d.mean()\n"
   ]
  },
  {
   "cell_type": "code",
   "execution_count": 60,
   "metadata": {},
   "outputs": [
    {
     "data": {
      "text/plain": [
       "1.0"
      ]
     },
     "execution_count": 60,
     "metadata": {},
     "output_type": "execute_result"
    }
   ],
   "source": [
    "# Élément minimal dans la matrice complète\n",
    "d.min()\n"
   ]
  },
  {
   "cell_type": "code",
   "execution_count": 61,
   "metadata": {},
   "outputs": [
    {
     "data": {
      "text/plain": [
       "5.5"
      ]
     },
     "execution_count": 61,
     "metadata": {},
     "output_type": "execute_result"
    }
   ],
   "source": [
    "# Élément maximal dans la matrice complète\n",
    "d.max()\n"
   ]
  },
  {
   "cell_type": "code",
   "execution_count": 62,
   "metadata": {},
   "outputs": [
    {
     "data": {
      "text/plain": [
       "array([ 2.5,  6.5, 10.5])"
      ]
     },
     "execution_count": 62,
     "metadata": {},
     "output_type": "execute_result"
    }
   ],
   "source": [
    "# Somme des colonnes\n",
    "# axis 0 => colonnes\n",
    "d.sum(axis=0)\n"
   ]
  },
  {
   "cell_type": "code",
   "execution_count": 63,
   "metadata": {},
   "outputs": [
    {
     "data": {
      "text/plain": [
       "array([1.25, 3.25, 5.25])"
      ]
     },
     "execution_count": 63,
     "metadata": {},
     "output_type": "execute_result"
    }
   ],
   "source": [
    "# Moyenne des colonnes\n",
    "# axis 0 => colonnes\n",
    "d.mean(axis=0)\n"
   ]
  },
  {
   "cell_type": "code",
   "execution_count": 29,
   "metadata": {},
   "outputs": [
    {
     "data": {
      "text/plain": [
       "array([1.25, 3.25, 5.25])"
      ]
     },
     "execution_count": 29,
     "metadata": {},
     "output_type": "execute_result"
    }
   ],
   "source": [
    "# axis 0 => colonnes\n",
    "d.mean(axis=0)"
   ]
  },
  {
   "cell_type": "code",
   "execution_count": 30,
   "metadata": {},
   "outputs": [
    {
     "data": {
      "text/plain": [
       "array([ 9. , 10.5])"
      ]
     },
     "execution_count": 30,
     "metadata": {},
     "output_type": "execute_result"
    }
   ],
   "source": [
    "# axis 1 => rangées\n",
    "d.sum(axis=1)"
   ]
  },
  {
   "cell_type": "code",
   "execution_count": 64,
   "metadata": {},
   "outputs": [
    {
     "data": {
      "text/plain": [
       "array([ 9. , 10.5])"
      ]
     },
     "execution_count": 64,
     "metadata": {},
     "output_type": "execute_result"
    }
   ],
   "source": [
    "# Somme des rangées ou lignes\n",
    "# axis 1 => rangées\n",
    "d.sum(axis=1)\n"
   ]
  },
  {
   "cell_type": "code",
   "execution_count": 66,
   "metadata": {},
   "outputs": [
    {
     "data": {
      "text/plain": [
       "array([3. , 3.5])"
      ]
     },
     "execution_count": 66,
     "metadata": {},
     "output_type": "execute_result"
    }
   ],
   "source": [
    "# Moyenne des rangées ou lignes\n",
    "# axis 1 => rangées ou lignes\n",
    "d.mean(axis=1)\n"
   ]
  },
  {
   "cell_type": "markdown",
   "metadata": {},
   "source": [
    "### Exercices\n",
    "\n",
    "Soient trois cercles de rayons [1,2,3] dans la matrice rayons créer une matrice circonférences et une matrice surfaces en utilisant np.pi"
   ]
  },
  {
   "cell_type": "markdown",
   "metadata": {},
   "source": [
    "### Multiplication matricielle\n",
    "\n",
    "Multiplication matricielle (np.dot)\n",
    "\n",
    "$c_{ij} = \\sum_{k=1}^{n}a_{ik}+b_{kj}$ \n",
    "\n",
    "Source:[<a href=\"https://fr.wikipedia.org/wiki/Produit_matriciel\">Produit matriciel - Wikipédia</a>]"
   ]
  },
  {
   "cell_type": "markdown",
   "metadata": {},
   "source": [
    "**Note** : «dot product» est le produit scalaire, quel est le lien avec la multiplication matricielle?\n",
    "\n",
    "* Le produit scalaire est défini entre deux vecteurs.\n",
    "\n",
    "* La multiplication matricielle est définie entre deux matrices.\n",
    "\n",
    "Ce sont des opérations différentes entre différents objets mathématiques.\n",
    "\n",
    "Le lien entre les deux opérations est le suivant: Pour calculer l'entrée $c_{ij}$ de la multiplication matricielle c = ab, on prend le produit scalaire de la 𝑖'ème ligne de la matrice a $a_{i}$ avec la $b_{j}$ colonne de la matrice b."
   ]
  },
  {
   "cell_type": "code",
   "execution_count": 74,
   "metadata": {},
   "outputs": [
    {
     "name": "stdout",
     "output_type": "stream",
     "text": [
      "e\n",
      "[[ 1  0]\n",
      " [ 2 -1]]\n",
      "f\n",
      "[[ 3  4]\n",
      " [-2 -3]]\n",
      "\n",
      "multiplication matricielle e par f\n"
     ]
    },
    {
     "data": {
      "text/plain": [
       "array([[ 3,  4],\n",
       "       [ 8, 11]])"
      ]
     },
     "execution_count": 74,
     "metadata": {},
     "output_type": "execute_result"
    }
   ],
   "source": [
    "# Multiplication matricielle (np.dot)\n",
    "e = np.array([[1,0],[2,-1]]) \n",
    "print('e')\n",
    "print(e)\n",
    "f = np.array([[3,4],[-2,-3]]) \n",
    "print('f')\n",
    "print(f)\n",
    "print()\n",
    "print(\"multiplication matricielle e par f\")\n",
    "np.dot(e,f)\n"
   ]
  },
  {
   "cell_type": "code",
   "execution_count": 73,
   "metadata": {},
   "outputs": [
    {
     "name": "stdout",
     "output_type": "stream",
     "text": [
      "i\n",
      "[[1. 0.]\n",
      " [0. 1.]]\n",
      "e\n",
      "[[ 1  0]\n",
      " [ 2 -1]]\n",
      "\n",
      "multiplication matricielle i par e\n",
      "[[ 1.  0.]\n",
      " [ 2. -1.]]\n",
      "\n",
      "multiplication matricielle e par i\n",
      "[[ 1.  0.]\n",
      " [ 2. -1.]]\n"
     ]
    }
   ],
   "source": [
    "# Multiplication matricielle par la matrice identité de même dimension \n",
    "i = np.eye(2)\n",
    "print(\"i\")\n",
    "print(i)\n",
    "print(\"e\")\n",
    "print(e)\n",
    "print()\n",
    "print(\"multiplication matricielle i par e\")\n",
    "print(np.dot(i,e))\n",
    "print()\n",
    "print(\"multiplication matricielle e par i\")\n",
    "print(np.dot(e,i))\n"
   ]
  },
  {
   "cell_type": "markdown",
   "metadata": {},
   "source": [
    "### Produit de Hadamard (élément par élément)\n",
    "\n",
    "En anglais (Hadamard product or element wise product)\n",
    "\n",
    "Produit de Hadamard (np.multiply) ou simplement l'opérateur '*'\n",
    "\n",
    "$c_{ij} = \\sum_{j=1}^{n}a_{ij}\\times b_{ij}$ "
   ]
  },
  {
   "cell_type": "code",
   "execution_count": 72,
   "metadata": {},
   "outputs": [
    {
     "name": "stdout",
     "output_type": "stream",
     "text": [
      "e\n",
      "[[ 1  0]\n",
      " [ 2 -1]]\n",
      "f\n",
      "[[ 3  4]\n",
      " [-2 -3]]\n",
      "\n",
      "produit de Hadamard de e par f - fonction np.multiply() \n",
      "[[ 3  0]\n",
      " [-4  3]]\n",
      "\n",
      "produit de Hadamard de e par f - opérateur *\n",
      "[[ 3  0]\n",
      " [-4  3]]\n"
     ]
    }
   ],
   "source": [
    "# Produit de Hadamard \n",
    "print(\"e\")\n",
    "print(e)\n",
    "print(\"f\")\n",
    "print(f)\n",
    "print()\n",
    "print(\"produit de Hadamard de e par f - fonction np.multiply() \")\n",
    "print(np.multiply(e,f))\n",
    "print()\n",
    "print(\"produit de Hadamard de e par f - opérateur *\")\n",
    "print(e*f)\n"
   ]
  },
  {
   "cell_type": "markdown",
   "metadata": {},
   "source": [
    "#### Calcul simple de la paye\n",
    "Nous devons calculer des payes. Nous avons une première matrice d'employés répartis en trois équipes, donc trois lignes. Une équipe comportera 9 personnes donc 9 colonnes. Si l'on a moins de 9 employés on placera un 0 à cet endroit."
   ]
  },
  {
   "cell_type": "code",
   "execution_count": 97,
   "metadata": {},
   "outputs": [],
   "source": [
    "employes = np.array([[1, 1, 1, 1, 1, 1, 0, 0, 0],\n",
    "                     [1, 1, 1, 1, 1, 1, 1, 1, 1],\n",
    "                     [1, 1, 1, 1, 1, 1, 1, 0, 0]])"
   ]
  },
  {
   "cell_type": "markdown",
   "metadata": {},
   "source": [
    "Une matrice des salaires horaires pour chaque employé. "
   ]
  },
  {
   "cell_type": "code",
   "execution_count": 98,
   "metadata": {},
   "outputs": [],
   "source": [
    "taux_horaires = np.array([[30, 35, 45, 35, 40, 55, 35, 45, 35],\n",
    "                          [15, 18, 25, 20, 22, 15, 20, 20, 18],\n",
    "                          [20, 20, 25, 25, 25, 20, 25, 20, 25]])"
   ]
  },
  {
   "cell_type": "markdown",
   "metadata": {},
   "source": [
    "Une troisième matrice contient les heures travaillées par chaque employé sur une période de deux semaines.    "
   ]
  },
  {
   "cell_type": "code",
   "execution_count": 107,
   "metadata": {},
   "outputs": [],
   "source": [
    "heures_travaillees = np.array([[70, 70, 75, 70, 80, 70, 0,  0,  0],\n",
    "                               [80, 80, 80, 80, 80, 80, 80, 80, 80],\n",
    "                               [75, 75, 75, 75, 38, 75, 75, 0,  0]])"
   ]
  },
  {
   "cell_type": "markdown",
   "metadata": {},
   "source": [
    "Le calcul des payes est le produit élément par élément ou produit de Hadamard des trois matrices."
   ]
  },
  {
   "cell_type": "code",
   "execution_count": 108,
   "metadata": {},
   "outputs": [
    {
     "name": "stdout",
     "output_type": "stream",
     "text": [
      "[[2100 2450 3375 2450 3200 3850    0    0    0]\n",
      " [1200 1440 2000 1600 1760 1200 1600 1600 1440]\n",
      " [1500 1500 1875 1875  950 1500 1875    0    0]]\n"
     ]
    }
   ],
   "source": [
    "payes = employes * taux_horaires * heures_travaillees\n",
    "print(payes) \n"
   ]
  },
  {
   "cell_type": "markdown",
   "metadata": {},
   "source": [
    "Calculons la masse salariale pour une paye"
   ]
  },
  {
   "cell_type": "code",
   "execution_count": 110,
   "metadata": {},
   "outputs": [
    {
     "data": {
      "text/plain": [
       "42340"
      ]
     },
     "execution_count": 110,
     "metadata": {},
     "output_type": "execute_result"
    }
   ],
   "source": [
    "sum(payes)"
   ]
  },
  {
   "cell_type": "markdown",
   "metadata": {},
   "source": [
    "Calculons la masse salariale d'une paye pour chaque équipe"
   ]
  },
  {
   "cell_type": "code",
   "execution_count": 127,
   "metadata": {},
   "outputs": [
    {
     "data": {
      "text/plain": [
       "array([17425, 13840, 11075])"
      ]
     },
     "execution_count": 127,
     "metadata": {},
     "output_type": "execute_result"
    }
   ],
   "source": [
    "payes.sum(axis=1)"
   ]
  },
  {
   "cell_type": "markdown",
   "metadata": {},
   "source": [
    "Calculons le taux horaire moyen."
   ]
  },
  {
   "cell_type": "code",
   "execution_count": 130,
   "metadata": {},
   "outputs": [
    {
     "data": {
      "text/plain": [
       "33.32"
      ]
     },
     "execution_count": 130,
     "metadata": {},
     "output_type": "execute_result"
    }
   ],
   "source": [
    "round(sum(taux_horaires)/sum(employes),2)"
   ]
  },
  {
   "cell_type": "markdown",
   "metadata": {},
   "source": [
    "Calculons la moyenne des payes"
   ]
  },
  {
   "cell_type": "code",
   "execution_count": 131,
   "metadata": {},
   "outputs": [
    {
     "data": {
      "text/plain": [
       "1924.55"
      ]
     },
     "execution_count": 131,
     "metadata": {},
     "output_type": "execute_result"
    }
   ],
   "source": [
    "round(sum(payes)/sum(employes),2)"
   ]
  },
  {
   "cell_type": "markdown",
   "metadata": {},
   "source": [
    "Trouvons le montant de la plus grosse paye"
   ]
  },
  {
   "cell_type": "code",
   "execution_count": 133,
   "metadata": {},
   "outputs": [
    {
     "data": {
      "text/plain": [
       "3850"
      ]
     },
     "execution_count": 133,
     "metadata": {},
     "output_type": "execute_result"
    }
   ],
   "source": [
    "max(payes.max(axis=1))"
   ]
  },
  {
   "cell_type": "markdown",
   "metadata": {},
   "source": [
    "### Remodelage et mise à jour de matrices"
   ]
  },
  {
   "cell_type": "code",
   "execution_count": 135,
   "metadata": {},
   "outputs": [
    {
     "name": "stdout",
     "output_type": "stream",
     "text": [
      "[ 0  1  2  3  4  5  6  7  8  9 10 11]\n"
     ]
    }
   ],
   "source": [
    "g = np.arange(12)\n",
    "print(g)\n"
   ]
  },
  {
   "cell_type": "code",
   "execution_count": 136,
   "metadata": {},
   "outputs": [
    {
     "name": "stdout",
     "output_type": "stream",
     "text": [
      "[[ 0  1  2  3]\n",
      " [ 4  5  6  7]\n",
      " [ 8  9 10 11]]\n"
     ]
    }
   ],
   "source": [
    "# Remodelage sur 3 lignes et 4 colonnes\n",
    "h = g.reshape(3, 4)\n",
    "print(h)\n"
   ]
  },
  {
   "cell_type": "code",
   "execution_count": 137,
   "metadata": {},
   "outputs": [
    {
     "data": {
      "text/plain": [
       "array([0, 1, 2, 3, 4, 0, 0, 0, 0, 0, 0, 0])"
      ]
     },
     "execution_count": 137,
     "metadata": {},
     "output_type": "execute_result"
    }
   ],
   "source": [
    "# Affecter 0 à partir de l'élément d'indice 5 de la matrice e\n",
    "g[5:] = 0\n",
    "g\n"
   ]
  },
  {
   "cell_type": "markdown",
   "metadata": {},
   "source": [
    "### Aggrégation / juxtaposition de matrices"
   ]
  },
  {
   "cell_type": "code",
   "execution_count": 138,
   "metadata": {},
   "outputs": [
    {
     "name": "stdout",
     "output_type": "stream",
     "text": [
      "a\n",
      "[1 2 3]\n",
      "\n",
      "b\n",
      "[[0 2 4]\n",
      " [1 3 5]]\n",
      "\n",
      "d\n",
      "[[1.  3.  5. ]\n",
      " [1.5 3.5 5.5]]\n"
     ]
    }
   ],
   "source": [
    "print('a')\n",
    "print(a)\n",
    "print()\n",
    "print('b')\n",
    "print(b)\n",
    "print()\n",
    "print('d')\n",
    "print(d)\n"
   ]
  },
  {
   "cell_type": "code",
   "execution_count": 139,
   "metadata": {},
   "outputs": [
    {
     "name": "stdout",
     "output_type": "stream",
     "text": [
      "[1 2 3 1 2 3 1 2 3]\n"
     ]
    }
   ],
   "source": [
    "print(np.concatenate([a, a, a]))\n"
   ]
  },
  {
   "cell_type": "code",
   "execution_count": 140,
   "metadata": {},
   "outputs": [
    {
     "name": "stdout",
     "output_type": "stream",
     "text": [
      "[[1.  2.  3. ]\n",
      " [0.  2.  4. ]\n",
      " [1.  3.  5. ]\n",
      " [1.  3.  5. ]\n",
      " [1.5 3.5 5.5]]\n"
     ]
    }
   ],
   "source": [
    "print(np.vstack([a, b, d]))\n"
   ]
  },
  {
   "cell_type": "code",
   "execution_count": 141,
   "metadata": {},
   "outputs": [
    {
     "name": "stdout",
     "output_type": "stream",
     "text": [
      "[[0.  2.  4.  1.  3.  5. ]\n",
      " [1.  3.  5.  1.5 3.5 5.5]]\n"
     ]
    }
   ],
   "source": [
    "print(np.hstack([b, d]))\n"
   ]
  },
  {
   "cell_type": "markdown",
   "metadata": {},
   "source": [
    "### Exercices\n",
    "\n",
    "* Créer une matrice m de 4 lignes, 4 colonnes, 1ère ligne les premières puissance de 2 débutant à 1, 2ième ligne, les premiers termes de la suite de Fibonacci en débutant avec 2, la 3e ligne une suite où la différence entre un terme et le suivant est égale à 5 et démarrant à 2, la 4e la fonction factorielle débutant à 2.\n",
    "\n",
    "* Afficher le 3e élément de la 3e ligne\n",
    "\n",
    "* Afficher la somme de la 1ère ligne\n",
    "\n",
    "* Afficher la diagonale en utilisant une matrice identité et le produit de Hadamard"
   ]
  },
  {
   "cell_type": "markdown",
   "metadata": {},
   "source": [
    "## Premier contact avec Matplotlib\n",
    "\n",
    "<a href=\"https://matplotlib.org/\">Matplotlib</a> est une bibliothèque n logiciel libre de visualisation en Python. Matplotlib offre une gamme d'outils personnalisables principalement en 2D pour visualiser des ensembles de données complexes (nuages de points, histogrammes, diagrammes en bâtons, courbes, camemberts, etc.)."
   ]
  },
  {
   "cell_type": "markdown",
   "metadata": {},
   "source": [
    "### Graphique"
   ]
  },
  {
   "cell_type": "code",
   "execution_count": 142,
   "metadata": {},
   "outputs": [],
   "source": [
    "import matplotlib.pyplot as plt\n",
    "%matplotlib inline\n"
   ]
  },
  {
   "cell_type": "code",
   "execution_count": 143,
   "metadata": {},
   "outputs": [
    {
     "data": {
      "text/plain": [
       "array([0.        , 0.22222222, 0.44444444, 0.66666667, 0.88888889,\n",
       "       1.11111111, 1.33333333, 1.55555556, 1.77777778, 2.        ])"
      ]
     },
     "execution_count": 143,
     "metadata": {},
     "output_type": "execute_result"
    }
   ],
   "source": [
    "x = np.linspace(0, 2, 10)\n",
    "x\n"
   ]
  },
  {
   "cell_type": "code",
   "execution_count": 144,
   "metadata": {},
   "outputs": [
    {
     "data": {
      "image/png": "[encoded data removed]",
      "text/plain": [
       "<Figure size 432x288 with 1 Axes>"
      ]
     },
     "metadata": {
      "needs_background": "light"
     },
     "output_type": "display_data"
    }
   ],
   "source": [
    "# Tracage d'une droite\n",
    "plt.plot(x, 'o-');"
   ]
  },
  {
   "cell_type": "code",
   "execution_count": 145,
   "metadata": {},
   "outputs": [
    {
     "data": {
      "image/png": "[encoded data removed]",
      "text/plain": [
       "<Figure size 432x288 with 1 Axes>"
      ]
     },
     "metadata": {
      "needs_background": "light"
     },
     "output_type": "display_data"
    }
   ],
   "source": [
    "plt.plot(x, x, 'o-', label=u'Linéaire')\n",
    "plt.plot(x, x ** 2, 'x-', label=u'Quadratique')\n",
    "\n",
    "plt.legend(loc='best')\n",
    "plt.title(u'Progression linéaire vs quadratique')\n",
    "plt.xlabel(u'Entrée')\n",
    "plt.ylabel(u'Sortie');"
   ]
  },
  {
   "cell_type": "code",
   "execution_count": 146,
   "metadata": {},
   "outputs": [],
   "source": [
    "# 1000 échantillons d'une fonction de distribution normale avec\n",
    "# une moyenne de 1.0 et un écart-type (standard deviation) de 0.5\n",
    "echantillons = np.random.normal(loc=1.0, scale=0.5, size=1000)"
   ]
  },
  {
   "cell_type": "code",
   "execution_count": 147,
   "metadata": {},
   "outputs": [
    {
     "name": "stdout",
     "output_type": "stream",
     "text": [
      "(1000,)\n",
      "\n",
      "float64\n"
     ]
    }
   ],
   "source": [
    "# Dimensions du tableau de données\n",
    "print(echantillons.shape)\n",
    "print()\n",
    "# Type des données\n",
    "print(echantillons.dtype)"
   ]
  },
  {
   "cell_type": "code",
   "execution_count": 148,
   "metadata": {},
   "outputs": [
    {
     "data": {
      "text/plain": [
       "array([ 1.22380135,  0.30205632,  1.32013632,  0.99972511,  1.200496  ,\n",
       "        0.63864758,  0.73935334,  1.4283311 ,  0.83077668,  0.39089853,\n",
       "        0.37401988,  0.88425721,  1.04138397,  0.41975125, -0.0289421 ,\n",
       "        1.14601037,  0.98515213,  2.122267  ,  1.17765201,  1.23618142,\n",
       "        1.03080444,  0.41551276, -0.21556761,  1.64051102,  1.06643915,\n",
       "        0.54868587,  0.73996949,  1.22585456,  1.22610237,  0.9493197 ])"
      ]
     },
     "execution_count": 148,
     "metadata": {},
     "output_type": "execute_result"
    }
   ],
   "source": [
    "# Affichage des 30 premières données\n",
    "echantillons[:30]"
   ]
  },
  {
   "cell_type": "markdown",
   "metadata": {},
   "source": [
    "### Histogramme"
   ]
  },
  {
   "cell_type": "code",
   "execution_count": 149,
   "metadata": {},
   "outputs": [
    {
     "data": {
      "image/png": "[encoded data removed]",
      "text/plain": [
       "<Figure size 432x288 with 1 Axes>"
      ]
     },
     "metadata": {
      "needs_background": "light"
     },
     "output_type": "display_data"
    }
   ],
   "source": [
    "# Affichage d'un histogramme\n",
    "plt.hist(echantillons, bins=50);"
   ]
  },
  {
   "cell_type": "code",
   "execution_count": 150,
   "metadata": {},
   "outputs": [],
   "source": [
    "# Distribution normale avec moyenne (loc) de 1 et écart-type de 0.5\n",
    "echantillons_1 = np.random.normal(loc=1, scale=.5, size=10000)\n",
    "# Distribution standard de Student t avec df degrés de liberté\n",
    "echantillons_2 = np.random.standard_t(df=10, size=10000)"
   ]
  },
  {
   "cell_type": "code",
   "execution_count": 152,
   "metadata": {},
   "outputs": [
    {
     "data": {
      "image/png": "[encoded data removed]",
      "text/plain": [
       "<Figure size 432x288 with 1 Axes>"
      ]
     },
     "metadata": {
      "needs_background": "light"
     },
     "output_type": "display_data"
    }
   ],
   "source": [
    "# Affichage de deux histogrammes superposés\n",
    "# bin = nombre de colonnes de l'histogramme, alpha = transparence\n",
    "bins = np.linspace(-3, 3, 50)\n",
    "_ = plt.hist(echantillons_1, bins=bins, alpha=0.5, label=u'échantillons 1')\n",
    "_ = plt.hist(echantillons_2, bins=bins, alpha=0.5, label=u'échantillons 2')\n",
    "_ = plt.legend(loc='upper left')"
   ]
  },
  {
   "cell_type": "markdown",
   "metadata": {},
   "source": [
    "### Nuage de points"
   ]
  },
  {
   "cell_type": "code",
   "execution_count": 153,
   "metadata": {},
   "outputs": [
    {
     "data": {
      "image/png": "[encoded data removed]",
      "text/plain": [
       "<Figure size 432x288 with 1 Axes>"
      ]
     },
     "metadata": {
      "needs_background": "light"
     },
     "output_type": "display_data"
    }
   ],
   "source": [
    "# Affichage d'un nuage de points (scatter)\n",
    "# Note: affectation du résultat à _ pour éviter l'affichage\n",
    "# de la référence à l'objet dans la page du Notebook\n",
    "# ou mettre None sur la dernière ligne de la cellule\n",
    "_ = plt.scatter(echantillons_1, echantillons_2, alpha=0.1)"
   ]
  },
  {
   "cell_type": "markdown",
   "metadata": {
    "collapsed": true
   },
   "source": [
    "## Ressources utiles\n",
    "\n",
    "1) StackOverflow - https://stackoverflow.com\n",
    "\n",
    "2) Pandas -https://pandas.pydata.org/pandas-docs/stable/getting_started/tutorials.html\n",
    "\n",
    "3) Numpy - https://numpy.org/ - Reshape and stack - http://bit.ly/2Qrv7oh\n",
    "\n",
    "4) Matplotlib - https://matplotlib.org/3.1.1/tutorials/index.html"
   ]
  },
  {
   "cell_type": "markdown",
   "metadata": {},
   "source": [
    "## Solutions aux exercices\n"
   ]
  },
  {
   "cell_type": "markdown",
   "metadata": {},
   "source": [
    "Accès aux deux derniers éléments de la 2e ligne\n",
    "=> array([3, 5])"
   ]
  },
  {
   "cell_type": "code",
   "execution_count": 155,
   "metadata": {},
   "outputs": [
    {
     "data": {
      "text/plain": [
       "array([[0, 2, 4],\n",
       "       [1, 3, 5]])"
      ]
     },
     "execution_count": 155,
     "metadata": {},
     "output_type": "execute_result"
    }
   ],
   "source": [
    "b"
   ]
  },
  {
   "cell_type": "code",
   "execution_count": 156,
   "metadata": {},
   "outputs": [
    {
     "name": "stdout",
     "output_type": "stream",
     "text": [
      "[3 5]\n",
      "[3 5]\n"
     ]
    }
   ],
   "source": [
    "# Deux solutions\n",
    "print(b[1,1:3])\n",
    "print(b[1,-2:])"
   ]
  },
  {
   "cell_type": "markdown",
   "metadata": {},
   "source": [
    "Soient trois cercles de rayons [1,2,3] dans la matrice rayons créer une matrice circonférences et une matrice surfaces en utilisant np.pi"
   ]
  },
  {
   "cell_type": "code",
   "execution_count": 157,
   "metadata": {},
   "outputs": [
    {
     "name": "stdout",
     "output_type": "stream",
     "text": [
      "[1 2 3]\n",
      "[ 6.28318531 12.56637061 18.84955592]\n",
      "[ 3.14159265 12.56637061 28.27433388]\n"
     ]
    }
   ],
   "source": [
    "rayons = np.array([1,2,3])\n",
    "print(rayons)\n",
    "circonférences = 2*np.pi*rayons\n",
    "print(circonférences)\n",
    "surfaces = np.pi*rayons**2\n",
    "print(surfaces)"
   ]
  },
  {
   "cell_type": "markdown",
   "metadata": {},
   "source": [
    "* Créer une matrice m de 4 lignes, 4 colonnes, 1ère ligne les premières puissance de 2 débutant à 1, 2ième ligne, les premiers termes de la suite de Fibonacci en débutant avec 2, la 3e ligne une suite où la différence entre un terme et le suivant est égale à 5 et démarrant à 2, la 4e la fonction factorielle débutant à 2.\n",
    "\n",
    "* Afficher le 3e élément de la 3e ligne\n",
    "\n",
    "* Afficher la somme de la 1ère ligne\n",
    "\n",
    "* Afficher la deuxième colonne\n",
    "\n",
    "* Afficher la diagonale en utilisant une matrice identité et le produit de Hadamard"
   ]
  },
  {
   "cell_type": "code",
   "execution_count": 159,
   "metadata": {},
   "outputs": [
    {
     "data": {
      "text/plain": [
       "array([[  2,   4,   8,  16],\n",
       "       [  2,   3,   5,   8],\n",
       "       [  2,   7,  12,  17],\n",
       "       [  2,   6,  24, 120]])"
      ]
     },
     "execution_count": 159,
     "metadata": {},
     "output_type": "execute_result"
    }
   ],
   "source": [
    "m = np.array([[2,4,8,16],[2,3,5,8],[2,7,12,17],[2,6,24,120]]) \n",
    "m"
   ]
  },
  {
   "cell_type": "code",
   "execution_count": 160,
   "metadata": {},
   "outputs": [
    {
     "data": {
      "text/plain": [
       "12"
      ]
     },
     "execution_count": 160,
     "metadata": {},
     "output_type": "execute_result"
    }
   ],
   "source": [
    "m[2,2]"
   ]
  },
  {
   "cell_type": "code",
   "execution_count": 161,
   "metadata": {},
   "outputs": [
    {
     "data": {
      "text/plain": [
       "30"
      ]
     },
     "execution_count": 161,
     "metadata": {},
     "output_type": "execute_result"
    }
   ],
   "source": [
    "# ou sum(m[0])\n",
    "sum(m[0,:])"
   ]
  },
  {
   "cell_type": "code",
   "execution_count": 162,
   "metadata": {},
   "outputs": [
    {
     "data": {
      "text/plain": [
       "array([4, 3, 7, 6])"
      ]
     },
     "execution_count": 162,
     "metadata": {},
     "output_type": "execute_result"
    }
   ],
   "source": [
    "m[:,1]"
   ]
  },
  {
   "cell_type": "code",
   "execution_count": 163,
   "metadata": {},
   "outputs": [
    {
     "data": {
      "text/plain": [
       "array([[  2.,   0.,   0.,   0.],\n",
       "       [  0.,   3.,   0.,   0.],\n",
       "       [  0.,   0.,  12.,   0.],\n",
       "       [  0.,   0.,   0., 120.]])"
      ]
     },
     "execution_count": 163,
     "metadata": {},
     "output_type": "execute_result"
    }
   ],
   "source": [
    "np.multiply(np.eye(4),m)"
   ]
  },
  {
   "cell_type": "code",
   "execution_count": null,
   "metadata": {},
   "outputs": [],
   "source": []
  }
 ],
 "metadata": {
  "kernelspec": {
   "display_name": "Python 3",
   "language": "python",
   "name": "python3"
  },
  "language_info": {
   "codemirror_mode": {
    "name": "ipython",
    "version": 3
   },
   "file_extension": ".py",
   "mimetype": "text/x-python",
   "name": "python",
   "nbconvert_exporter": "python",
   "pygments_lexer": "ipython3",
   "version": "3.6.5"
  }
 },
 "nbformat": 4,
 "nbformat_minor": 1
}
